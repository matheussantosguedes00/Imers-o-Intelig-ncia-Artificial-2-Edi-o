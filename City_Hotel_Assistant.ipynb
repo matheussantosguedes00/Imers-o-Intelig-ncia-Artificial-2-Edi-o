{
  "nbformat": 4,
  "nbformat_minor": 0,
  "metadata": {
    "colab": {
      "provenance": [],
      "authorship_tag": "ABX9TyM34xlaM0ERdfOoFso1JQ5z",
      "include_colab_link": true
    },
    "kernelspec": {
      "name": "python3",
      "display_name": "Python 3"
    },
    "language_info": {
      "name": "python"
    }
  },
  "cells": [
    {
      "cell_type": "markdown",
      "metadata": {
        "id": "view-in-github",
        "colab_type": "text"
      },
      "source": [
        "<a href=\"https://colab.research.google.com/github/matheussantosguedes00/Imersao-Inteligencia-Artificial-Alura/blob/main/City_Hotel_Assistant.ipynb\" target=\"_parent\"><img src=\"https://colab.research.google.com/assets/colab-badge.svg\" alt=\"Open In Colab\"/></a>"
      ]
    },
    {
      "cell_type": "markdown",
      "source": [
        "\n",
        "\n",
        "# **City Hotel Assistant**\n",
        "\n",
        " **Descrição do Chatbot City Hotel Assistant:**\n",
        "O City Hotel Assistant é um chatbot com o objetivo de auxiliar usuários na busca por hotéis em uma cidade específica. Sua interface é amigável e fácil de usar. No entanto, é importante ter em mente que os resultados podem não ser totalmente precisos, já que o banco de dados utilizado pode não estar completamente atualizado.\n",
        "\n",
        "**Funcionalidades:**\n",
        "\n",
        "*   Pesquisa de hotéis por cidade.\n",
        "*   Possibilidade de filtrar resultados por critérios como preço, localização e avaliações.\n",
        "*   Fornecimento de informações básicas sobre os hotéis, como endereço, telefone e site\n",
        "\n",
        "**Limitações:**\n",
        "\n",
        "*   Precisão dos resultados pode ser afetada por um banco de dados desatualiza\n",
        "*   Pode não incluir todos os hotéis disponíveis na cidade.\n",
        "\n",
        "\n",
        "**Público-alvo:**\n",
        "\n",
        "Viajantes que buscam uma maneira rápida e fácil de encontrar hotéis em uma cidade específica.\n",
        "\n",
        "**Conclusão:**\n",
        "\n",
        "O City Hotel Assistant pode ser uma ferramenta útil para quem procura hotéis, mas é importante estar ciente de suas limitações e utilizar outras fontes para confirmar as informações antes de tomar uma decisão.\n"
      ],
      "metadata": {
        "id": "ush7vsWQvYcM"
      }
    },
    {
      "cell_type": "markdown",
      "source": [
        "**Instalando o SDK do Google**"
      ],
      "metadata": {
        "id": "cYZJHYh5vSX9"
      }
    },
    {
      "cell_type": "code",
      "execution_count": 1,
      "metadata": {
        "id": "YOPxtWI7tCF0"
      },
      "outputs": [],
      "source": [
        "!pip install -q -U google-generativeai"
      ]
    },
    {
      "cell_type": "markdown",
      "source": [
        "**Colocando api key do GOOGLE**"
      ],
      "metadata": {
        "id": "1LW2ss-SyCvH"
      }
    },
    {
      "cell_type": "code",
      "source": [
        "import google.generativeai as genai\n",
        "from google.colab import userdata\n",
        "api_key=userdata.get('SECRET_KEY')\n",
        "genai.configure(api_key=api_key)"
      ],
      "metadata": {
        "id": "I_55Gsb5yBp9"
      },
      "execution_count": 26,
      "outputs": []
    },
    {
      "cell_type": "markdown",
      "source": [
        "**Listar os modelos disponiveis**"
      ],
      "metadata": {
        "id": "2OPhumSUyJqW"
      }
    },
    {
      "cell_type": "code",
      "source": [
        "for m in genai.list_models():\n",
        "  if 'generateContent' in m.supported_generation_methods:\n",
        "    print(m.name)"
      ],
      "metadata": {
        "colab": {
          "base_uri": "https://localhost:8080/",
          "height": 146
        },
        "id": "hdxNTcrCyURR",
        "outputId": "afe7b080-7327-448d-ad86-7133e6b3f9a1"
      },
      "execution_count": 3,
      "outputs": [
        {
          "output_type": "stream",
          "name": "stdout",
          "text": [
            "models/gemini-1.0-pro\n",
            "models/gemini-1.0-pro-001\n",
            "models/gemini-1.0-pro-latest\n",
            "models/gemini-1.0-pro-vision-latest\n",
            "models/gemini-1.5-pro-latest\n",
            "models/gemini-pro\n",
            "models/gemini-pro-vision\n"
          ]
        }
      ]
    },
    {
      "cell_type": "markdown",
      "source": [
        "**Isso no caso seria a configuração da Api**\n",
        "\n",
        "* Candidate_count -> isso e usado para não da mais de uma resposta\n",
        "\n",
        "* Temperature -> e usado para colocar aleatoriedade no modelo nas escolhas das palavras, Quando estiver maior mais criativo vai sair um pouco do modelo conservador."
      ],
      "metadata": {
        "id": "PJlodxykyXs-"
      }
    },
    {
      "cell_type": "code",
      "source": [
        "generation_config = {\n",
        "  \"candidate_count\": 1,\n",
        "  \"temperature\": 0.5,\n",
        "}"
      ],
      "metadata": {
        "id": "ZKsUMRm_yqb2"
      },
      "execution_count": 4,
      "outputs": []
    },
    {
      "cell_type": "markdown",
      "source": [
        "**Usado para colocar segurança na escrita e não deixa colocar palavra inapropriadas**"
      ],
      "metadata": {
        "id": "wHxfDAsxy5pt"
      }
    },
    {
      "cell_type": "code",
      "source": [
        "safety_settings={\n",
        "    'HATE': 'BLOCK_NONE',\n",
        "    'HARASSMENT': 'BLOCK_NONE',\n",
        "    'SEXUAL' : 'BLOCK_NONE',\n",
        "    'DANGEROUS' : 'BLOCK_NONE'\n",
        "    }"
      ],
      "metadata": {
        "id": "08SO6uFky-nF"
      },
      "execution_count": 5,
      "outputs": []
    },
    {
      "cell_type": "markdown",
      "source": [
        "**Inicializando o modelo**"
      ],
      "metadata": {
        "id": "m7EFKuT9zGC1"
      }
    },
    {
      "cell_type": "code",
      "source": [
        "model = genai.GenerativeModel(model_name='gemini-1.0-pro',\n",
        "                                  generation_config=generation_config,\n",
        "                                  safety_settings=safety_settings,)"
      ],
      "metadata": {
        "id": "Mu26VdvNzH68"
      },
      "execution_count": 6,
      "outputs": []
    },
    {
      "cell_type": "markdown",
      "source": [
        "**Função para colocar dados na tabela**"
      ],
      "metadata": {
        "id": "9v4v5CCJzM6F"
      }
    },
    {
      "cell_type": "code",
      "source": [
        "def formatar_tabela(tabela, separador='|'):\n",
        "    \"\"\"Formata uma tabela de texto utilizando caracteres especiais.\"\"\"\n",
        "    linhas = tabela.strip().split('\\n')\n",
        "\n",
        "    if len(linhas) < 2:\n",
        "        raise ValueError(\"A tabela deve ter pelo menos um cabeçalho e uma linha de dados.\")\n",
        "\n",
        "    cabecalho, corpo = extrair_cabecalho_e_corpo(linhas)\n",
        "    colunas_tamanho = determinar_tamanho_colunas(cabecalho, corpo)\n",
        "\n",
        "    cabecalho_formatado = formatar_linha(cabecalho, colunas_tamanho, separador)\n",
        "    separador_formatado = formatar_separador(colunas_tamanho, separador)\n",
        "    corpo_formatado = formatar_corpo(corpo, colunas_tamanho, separador)\n",
        "\n",
        "    tabela_formatada = f\"{separador_formatado}\\n{cabecalho_formatado}\\n{separador_formatado}\\n{corpo_formatado}{separador_formatado}\"\n",
        "\n",
        "    return tabela_formatada\n",
        "\n",
        "def extrair_cabecalho_e_corpo(linhas):\n",
        "    \"\"\"Extrai o cabeçalho e o corpo da tabela.\"\"\"\n",
        "    cabecalho = linhas[0].split(';')\n",
        "    corpo = [linha.split(';') for linha in linhas[1:]]\n",
        "    return cabecalho, corpo\n",
        "\n",
        "def determinar_tamanho_colunas(cabecalho, corpo):\n",
        "    \"\"\"Determina o tamanho das colunas com base no conteúdo.\"\"\"\n",
        "    colunas_tamanho = [max(len(str(item)) for item in coluna) for coluna in zip(cabecalho, *corpo)]\n",
        "    return colunas_tamanho\n",
        "\n",
        "def formatar_linha(linha, colunas_tamanho, separador):\n",
        "    \"\"\"Formata uma linha da tabela.\"\"\"\n",
        "    return separador + separador.join(\n",
        "        f\"{item.center(tamanho)} \" for item, tamanho in zip(linha, colunas_tamanho)\n",
        "    ) + separador\n",
        "\n",
        "def formatar_separador(colunas_tamanho, separador):\n",
        "    \"\"\"Formata a linha de separação.\"\"\"\n",
        "    return f\"+{'+'.join(['-' * (tamanho + 2) for tamanho in colunas_tamanho])}+\"\n",
        "\n",
        "def formatar_corpo(corpo, colunas_tamanho, separador):\n",
        "    \"\"\"Formata o corpo da tabela.\"\"\"\n",
        "    corpo_formatado = \"\"\n",
        "    for linha in corpo:\n",
        "        corpo_formatado += separador + separador.join(\n",
        "            f\"{item.ljust(tamanho)} \" for item, tamanho in zip(linha, colunas_tamanho)\n",
        "        ) + separador + '\\n'\n",
        "        corpo_formatado += '\\n'  # Adiciona uma quebra de linha após cada linha da tabela\n",
        "    return corpo_formatado\n",
        "\n",
        "# Exemplo de uso (substitua pelo seu modelo)\n",
        "def obter_hoteis(cidade, categoria):\n",
        "    \"\"\"Simulação de obtenção de dados de hotéis.\"\"\"\n",
        "    # Substitua esta parte pela chamada ao seu modelo\n",
        "    # O retorno deve ser uma string no formato de tabela\n",
        "    return f\"Nome;Endereço;Valor\\nHotel A;Rua X, 123;R$ 100\\nHotel B;Avenida Y, 456;R$ 200\"\n",
        "\n",
        "chat = model.start_chat(history=[])  # Substitua 'model' pelo seu modelo\n",
        "prompt = input('Digite a cidade: ')\n",
        "prompt2 = input('Hotéis de Categoria (Econômicos, Média, Luxo): ')\n",
        "\n",
        "while prompt.lower() != \"fim\" or prompt2.lower() != \"fim\":\n",
        "    try:\n",
        "        response = chat.send_message(\"Hoteis em \" + prompt + \" Categoria \" + prompt2 + \" Retorna em uma tabela mais bonita com Nome;Endereço;Nota;Vantagem\")\n",
        "        tabela_formatada = formatar_tabela(response.text)\n",
        "        print(\"Resposta:\\n\", tabela_formatada, '\\n\\n')\n",
        "    except ValueError as e:\n",
        "        print(f\"Erro: {e}\")\n",
        "\n",
        "    prompt = input('Digite a cidade ou \"fim\" para encerrar: ')\n",
        "    if prompt.lower() == \"fim\":\n",
        "        break  # Sai do loop se \"fim\" for digitado em 'prompt'\n",
        "    prompt2 = input('Hotéis de Categoria (Econômicos, Média, Luxo): ')\n",
        "    if prompt2.lower() == \"fim\":\n",
        "        break  # Sai do loop se \"fim\" for digitado em 'prompt2'\n"
      ],
      "metadata": {
        "colab": {
          "base_uri": "https://localhost:8080/",
          "height": 406
        },
        "id": "yZXhclHpzVYf",
        "outputId": "f8bcbe2f-be9e-46f7-f322-ca3dde9a160a"
      },
      "execution_count": 27,
      "outputs": [
        {
          "name": "stdout",
          "output_type": "stream",
          "text": [
            "Digite a cidade: Passos\n",
            "Hotéis de Categoria (Econômicos, Média, Luxo): Luxo\n",
            "Resposta:\n",
            " +-------------------------------------------------------------------------------------------------------------------------------------------+\n",
            "|                                                  | Nome | Endereço | Nota | Vantagem |                                                   |\n",
            "+-------------------------------------------------------------------------------------------------------------------------------------------+\n",
            "||---|---|---|---|                                                                                                                         |\n",
            "\n",
            "|| Hotel Fazenda Vale do Paraíso | Rodovia MG-050, km 265 | 9,2 | Ampla área de lazer com piscinas, quadras esportivas e lago para pesca | |\n",
            "\n",
            "|| Hotel Passos Palace | Av. Juca Stockler, 1000 | 8,8 | Localização central, próximo a restaurantes e lojas |                             |\n",
            "\n",
            "|| Hotel Pousada do Ipê | Rua José Bonifácio, 150 | 8,5 | Quartos aconchegantes e atendimento personalizado |                              |\n",
            "\n",
            "|| Hotel Vila Real | Rua Antônio Carlos, 200 | 8,3 | Piscina coberta e academia de ginástica |                                             |\n",
            "\n",
            "+-------------------------------------------------------------------------------------------------------------------------------------------+ \n",
            "\n",
            "\n",
            "Digite a cidade ou \"fim\" para encerrar: fim\n"
          ]
        }
      ]
    }
  ]
}